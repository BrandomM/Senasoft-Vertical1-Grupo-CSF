{
 "cells": [
  {
   "cell_type": "code",
   "execution_count": 1,
   "id": "510a5eae",
   "metadata": {},
   "outputs": [],
   "source": [
    "from numpy import save\n",
    "from PIL import Image\n",
    "import numpy as np\n",
    "from matplotlib import pyplot as plt"
   ]
  },
  {
   "cell_type": "code",
   "execution_count": 2,
   "id": "584b4b45",
   "metadata": {},
   "outputs": [],
   "source": [
    "def open_and_np(string):\n",
    "    return np.array(Image.open(string))"
   ]
  },
  {
   "cell_type": "markdown",
   "id": "d083cb5a",
   "metadata": {},
   "source": [
    "### X_train"
   ]
  },
  {
   "cell_type": "code",
   "execution_count": 3,
   "id": "0e19b598",
   "metadata": {},
   "outputs": [],
   "source": [
    "#Negros y llenos\n",
    "nl01 = open_and_np('plantillas/nl01.jpg')\n",
    "nl02 = open_and_np('plantillas/nl02.jpg')\n",
    "nl03 = open_and_np('plantillas/nl03.jpg')\n",
    "nl04 = open_and_np('plantillas/nl04.jpg')\n",
    "nl05 = open_and_np('plantillas/nl05.jpg')\n",
    "nl = np.array([nl01, nl02, nl03, nl04, nl05])"
   ]
  },
  {
   "cell_type": "code",
   "execution_count": 4,
   "id": "16b7c64d",
   "metadata": {},
   "outputs": [],
   "source": [
    "#Negros y vacíos\n",
    "nv01 = open_and_np('plantillas/nv01.jpg')\n",
    "nv02 = open_and_np('plantillas/nv02.jpg')\n",
    "nv03 = open_and_np('plantillas/nv03.jpg')\n",
    "nv04 = open_and_np('plantillas/nv04.jpg')\n",
    "nv05 = open_and_np('plantillas/nv05.jpg')\n",
    "nv = np.array([nv01, nv02, nv03, nv04, nv05])"
   ]
  },
  {
   "cell_type": "code",
   "execution_count": 5,
   "id": "b9ee06d8",
   "metadata": {},
   "outputs": [],
   "source": [
    "#A color y llenos\n",
    "cl01 = open_and_np('plantillas/cl01.jpg')\n",
    "cl02 = open_and_np('plantillas/cl02.jpg')\n",
    "cl03 = open_and_np('plantillas/cl03.jpg')\n",
    "cl04 = open_and_np('plantillas/cl04.jpg')\n",
    "cl05 = open_and_np('plantillas/cl05.jpg')\n",
    "cl = np.array([cl01, cl02, cl03, cl04, cl05])"
   ]
  },
  {
   "cell_type": "code",
   "execution_count": 6,
   "id": "92f88278",
   "metadata": {},
   "outputs": [],
   "source": [
    "#A color y vacíos\n",
    "cv01 = open_and_np('plantillas/cv01.jpg')\n",
    "cv02 = open_and_np('plantillas/cv02.jpg')\n",
    "cv03 = open_and_np('plantillas/cv03.jpg')\n",
    "cv04 = open_and_np('plantillas/cv04.jpg')\n",
    "cv05 = open_and_np('plantillas/cv05.jpg')\n",
    "cv = np.array([cv01, cv02, cv03, cv04, cv05])"
   ]
  },
  {
   "cell_type": "code",
   "execution_count": 7,
   "id": "e9e7ca06",
   "metadata": {},
   "outputs": [],
   "source": [
    "X_train = np.concatenate([nl, nv, cl, cv])"
   ]
  },
  {
   "cell_type": "code",
   "execution_count": 8,
   "id": "1e103fea",
   "metadata": {},
   "outputs": [],
   "source": [
    "save('X_train.npy', X_train)"
   ]
  },
  {
   "cell_type": "markdown",
   "id": "646f6f7b",
   "metadata": {},
   "source": [
    "### y_train"
   ]
  },
  {
   "cell_type": "code",
   "execution_count": 9,
   "id": "d4326201",
   "metadata": {},
   "outputs": [],
   "source": [
    "y_train = np.concatenate(\n",
    "    [np.array([0]*5),\n",
    "     np.array([1]*5),\n",
    "     np.array([2]*5),\n",
    "     np.array([3]*5)])"
   ]
  },
  {
   "cell_type": "code",
   "execution_count": 10,
   "id": "093222c4",
   "metadata": {},
   "outputs": [],
   "source": [
    "save('y_train.npy', y_train)"
   ]
  },
  {
   "cell_type": "markdown",
   "id": "25d707ca",
   "metadata": {},
   "source": [
    "### X_test"
   ]
  },
  {
   "cell_type": "code",
   "execution_count": 11,
   "id": "21cbb8ee",
   "metadata": {},
   "outputs": [],
   "source": [
    "tnl01 = open_and_np('plantillas/tnl01.jpg')\n",
    "tnv01 = open_and_np('plantillas/tnv01.jpg')\n",
    "tcl01 = open_and_np('plantillas/tcl01.jpg')\n",
    "tcv01 = open_and_np('plantillas/tcv01.jpg')\n",
    "X_test = np.array([tnl01, tnv01, tcl01, tcv01])"
   ]
  },
  {
   "cell_type": "code",
   "execution_count": 12,
   "id": "584118a8",
   "metadata": {},
   "outputs": [],
   "source": [
    "save('X_test.npy', X_test)"
   ]
  },
  {
   "cell_type": "markdown",
   "id": "3369ee3d",
   "metadata": {},
   "source": [
    "### y_test"
   ]
  },
  {
   "cell_type": "code",
   "execution_count": 13,
   "id": "e85d7181",
   "metadata": {},
   "outputs": [],
   "source": [
    "y_test = np.array([0,1,2,3])"
   ]
  },
  {
   "cell_type": "code",
   "execution_count": 14,
   "id": "f8b77415",
   "metadata": {},
   "outputs": [],
   "source": [
    "save('y_test.npy', y_test)"
   ]
  },
  {
   "cell_type": "markdown",
   "id": "cb28a576",
   "metadata": {},
   "source": [
    "### Classes"
   ]
  },
  {
   "cell_type": "code",
   "execution_count": 15,
   "id": "868f67ff",
   "metadata": {},
   "outputs": [],
   "source": [
    "classes = [\"Tinta negra y campos llenos\",\n",
    "           \"Tinta negra y campos vacíos\",\n",
    "           \"Tinta de colores y campos llenos\",\n",
    "           \"Tinta de colores y campos vacíos\"]"
   ]
  },
  {
   "cell_type": "code",
   "execution_count": 16,
   "id": "3f8f7b9c",
   "metadata": {},
   "outputs": [],
   "source": [
    "def plot_sample(X, y, index):\n",
    "    plt.figure(figsize = (15,2))\n",
    "    plt.imshow(X[index])\n",
    "    plt.xlabel(classes[y[index]])"
   ]
  },
  {
   "cell_type": "code",
   "execution_count": 17,
   "id": "5216fcb1",
   "metadata": {},
   "outputs": [
    {
     "data": {
      "image/png": "[encoded data removed]",
      "text/plain": [
       "<Figure size 1080x144 with 1 Axes>"
      ]
     },
     "metadata": {
      "needs_background": "light"
     },
     "output_type": "display_data"
    }
   ],
   "source": [
    "plot_sample(X_train, y_train, 2)"
   ]
  },
  {
   "cell_type": "code",
   "execution_count": 18,
   "id": "0f647c54",
   "metadata": {},
   "outputs": [],
   "source": [
    "X_train = X_train / 255.0"
   ]
  },
  {
   "cell_type": "code",
   "execution_count": 19,
   "id": "214dcc2d",
   "metadata": {},
   "outputs": [
    {
     "data": {
      "text/plain": [
       "(742, 698, 3)"
      ]
     },
     "execution_count": 19,
     "metadata": {},
     "output_type": "execute_result"
    }
   ],
   "source": [
    "tnl01.shape"
   ]
  },
  {
   "cell_type": "code",
   "execution_count": 23,
   "id": "761a90a8",
   "metadata": {},
   "outputs": [
    {
     "data": {
      "text/plain": [
       "(4, 742, 698, 3)"
      ]
     },
     "execution_count": 23,
     "metadata": {},
     "output_type": "execute_result"
    }
   ],
   "source": [
    "X_test.shape"
   ]
  },
  {
   "cell_type": "code",
   "execution_count": 26,
   "id": "26e43842",
   "metadata": {},
   "outputs": [
    {
     "data": {
      "text/plain": [
       "(742, 698, 3)"
      ]
     },
     "execution_count": 26,
     "metadata": {},
     "output_type": "execute_result"
    }
   ],
   "source": [
    "X_test[0].shape"
   ]
  },
  {
   "cell_type": "code",
   "execution_count": null,
   "id": "062c0628",
   "metadata": {},
   "outputs": [],
   "source": []
  }
 ],
 "metadata": {
  "kernelspec": {
   "display_name": "Python 3",
   "language": "python",
   "name": "python3"
  },
  "language_info": {
   "codemirror_mode": {
    "name": "ipython",
    "version": 3
   },
   "file_extension": ".py",
   "mimetype": "text/x-python",
   "name": "python",
   "nbconvert_exporter": "python",
   "pygments_lexer": "ipython3",
   "version": "3.8.8"
  }
 },
 "nbformat": 4,
 "nbformat_minor": 5
}
